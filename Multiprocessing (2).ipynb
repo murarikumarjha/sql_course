{
 "cells": [
  {
   "cell_type": "code",
   "execution_count": 11,
   "id": "496b249a-1cca-45c3-9fae-91e5bd5509c4",
   "metadata": {},
   "outputs": [],
   "source": [
    "import threading "
   ]
  },
  {
   "cell_type": "code",
   "execution_count": 5,
   "id": "90412f67-434e-463c-ab42-0ddd3455ed11",
   "metadata": {},
   "outputs": [],
   "source": [
    "def test(id):\n",
    "    print('prog start %d'%id)"
   ]
  },
  {
   "cell_type": "code",
   "execution_count": 6,
   "id": "7797dd5a-bdc6-4532-8346-1aa225ff7fed",
   "metadata": {},
   "outputs": [
    {
     "name": "stdout",
     "output_type": "stream",
     "text": [
      "prog start 45\n"
     ]
    }
   ],
   "source": [
    "test(45)"
   ]
  },
  {
   "cell_type": "code",
   "execution_count": 11,
   "id": "ec659c08-b132-4f36-af7b-25125ccfae1c",
   "metadata": {},
   "outputs": [],
   "source": [
    "thread = [threading.Thread(target = test, args = (i,)) for i in range(10)]"
   ]
  },
  {
   "cell_type": "code",
   "execution_count": 12,
   "id": "ad8ab12c-4ed7-41bd-a623-b631072fa5b5",
   "metadata": {},
   "outputs": [
    {
     "name": "stdout",
     "output_type": "stream",
     "text": [
      "prog start 0\n",
      "prog start 1\n",
      "prog start 2\n",
      "prog start 3\n",
      "prog start 4\n",
      "prog start 5\n",
      "prog start 6\n",
      "prog start 7\n",
      "prog start 8\n",
      "prog start 9\n"
     ]
    }
   ],
   "source": [
    "for i in thread:\n",
    "    i.start()"
   ]
  },
  {
   "cell_type": "code",
   "execution_count": 13,
   "id": "5b6512ec-577b-40c7-bbb2-851e653c8660",
   "metadata": {},
   "outputs": [
    {
     "data": {
      "text/plain": [
       "[0, 1, 2, 3, 4, 5, 6, 7, 8, 9]"
      ]
     },
     "execution_count": 13,
     "metadata": {},
     "output_type": "execute_result"
    }
   ],
   "source": [
    "list(range(10))"
   ]
  },
  {
   "cell_type": "code",
   "execution_count": 14,
   "id": "aa417c9a-1833-4bbb-987f-4e4bba1b5762",
   "metadata": {},
   "outputs": [
    {
     "data": {
      "text/plain": [
       "140560667045248"
      ]
     },
     "execution_count": 14,
     "metadata": {},
     "output_type": "execute_result"
    }
   ],
   "source": [
    "id(thread)"
   ]
  },
  {
   "cell_type": "code",
   "execution_count": 15,
   "id": "d828b31a-746a-4f83-80f3-2888924d4a1c",
   "metadata": {},
   "outputs": [
    {
     "data": {
      "text/plain": [
       "[<Thread(Thread-15 (test), stopped 140560102839872)>,\n",
       " <Thread(Thread-16 (test), stopped 140560102839872)>,\n",
       " <Thread(Thread-17 (test), stopped 140560102839872)>,\n",
       " <Thread(Thread-18 (test), stopped 140560102839872)>,\n",
       " <Thread(Thread-19 (test), stopped 140560102839872)>,\n",
       " <Thread(Thread-20 (test), stopped 140560102839872)>,\n",
       " <Thread(Thread-21 (test), stopped 140560102839872)>,\n",
       " <Thread(Thread-22 (test), stopped 140560102839872)>,\n",
       " <Thread(Thread-23 (test), stopped 140560094447168)>,\n",
       " <Thread(Thread-24 (test), stopped 140560094447168)>]"
      ]
     },
     "execution_count": 15,
     "metadata": {},
     "output_type": "execute_result"
    }
   ],
   "source": [
    "thread"
   ]
  },
  {
   "cell_type": "code",
   "execution_count": 16,
   "id": "4d2b321d-8749-4a85-978b-f6bd27312cdc",
   "metadata": {},
   "outputs": [],
   "source": [
    "import threading\n",
    "import urllib.request\n",
    "def file_download(url, filname) :\n",
    "    urllib.request.urlretrieve(url, filname)"
   ]
  },
  {
   "cell_type": "code",
   "execution_count": 17,
   "id": "192d397b-b045-4ad9-8dbc-483f203cbfee",
   "metadata": {},
   "outputs": [],
   "source": [
    "file_download(\"https://raw.githubusercontent.com/murarikumarjha/git_test/main/Baa%2C%20baa%2C%20black%20sheep.txt\",\"test.txt\")"
   ]
  },
  {
   "cell_type": "code",
   "execution_count": 18,
   "id": "0a71e908-85cf-4399-89b2-1ddd8c0728a4",
   "metadata": {},
   "outputs": [],
   "source": [
    "url_list= [\"https://raw.githubusercontent.com/murarikumarjha/git_test/main/Humpty%20Dumpty%20sat%20on%20a%20wall..txt\",\"https://raw.githubusercontent.com/murarikumarjha/git_test/main/Baa%2C%20baa%2C%20black%20sheep.txt\",\"https://raw.githubusercontent.com/murarikumarjha/git_test/main/poem3\"]"
   ]
  },
  {
   "cell_type": "code",
   "execution_count": 19,
   "id": "5ac3b74e-13fa-449e-bbe1-0497adaf007a",
   "metadata": {},
   "outputs": [
    {
     "data": {
      "text/plain": [
       "['https://raw.githubusercontent.com/murarikumarjha/git_test/main/Humpty%20Dumpty%20sat%20on%20a%20wall..txt',\n",
       " 'https://raw.githubusercontent.com/murarikumarjha/git_test/main/Baa%2C%20baa%2C%20black%20sheep.txt',\n",
       " 'https://raw.githubusercontent.com/murarikumarjha/git_test/main/poem3']"
      ]
     },
     "execution_count": 19,
     "metadata": {},
     "output_type": "execute_result"
    }
   ],
   "source": [
    "url_list"
   ]
  },
  {
   "cell_type": "code",
   "execution_count": 20,
   "id": "f313f7d7-b23a-4e63-92e1-1861cdcc03ee",
   "metadata": {},
   "outputs": [],
   "source": [
    "file_name_list = [\"data1.txt\",\"data2.txt\",\"data3.txt\"]"
   ]
  },
  {
   "cell_type": "code",
   "execution_count": 21,
   "id": "18f4101c-1606-4f6c-93df-5468e044be4c",
   "metadata": {},
   "outputs": [
    {
     "data": {
      "text/plain": [
       "['data1.txt', 'data2.txt', 'data3.txt']"
      ]
     },
     "execution_count": 21,
     "metadata": {},
     "output_type": "execute_result"
    }
   ],
   "source": [
    "file_name_list"
   ]
  },
  {
   "cell_type": "code",
   "execution_count": 26,
   "id": "8903d4aa-8b82-4095-9d44-f3a5a2c9bac6",
   "metadata": {},
   "outputs": [],
   "source": [
    "threr = [threading.Thread(target =file_download, args = (url_list[i], file_name_list[i])) for i in range(len(url_list))]"
   ]
  },
  {
   "cell_type": "code",
   "execution_count": 28,
   "id": "a3df558c-c3fd-4aea-b482-695bcb04c8cb",
   "metadata": {},
   "outputs": [],
   "source": [
    "for t in threr:\n",
    "    t.start()"
   ]
  },
  {
   "cell_type": "code",
   "execution_count": 29,
   "id": "91ae0f4c-225b-4e0f-9ebb-e7c33c02fba1",
   "metadata": {},
   "outputs": [
    {
     "data": {
      "text/plain": [
       "[<Thread(Thread-25 (file_download), stopped 140560094447168)>,\n",
       " <Thread(Thread-26 (file_download), stopped 140560102839872)>,\n",
       " <Thread(Thread-27 (file_download), stopped 140560072418880)>]"
      ]
     },
     "execution_count": 29,
     "metadata": {},
     "output_type": "execute_result"
    }
   ],
   "source": [
    "threr"
   ]
  },
  {
   "cell_type": "code",
   "execution_count": 2,
   "id": "121ad8bb-fd22-4d71-a6e5-1c796257e7d6",
   "metadata": {},
   "outputs": [],
   "source": [
    "import time "
   ]
  },
  {
   "cell_type": "code",
   "execution_count": 38,
   "id": "2d400ec8-37c2-4ad8-90d4-d733c897070a",
   "metadata": {},
   "outputs": [],
   "source": [
    "def test1(id):\n",
    "    for i in range(10):\n",
    "        print('test1 %d printing %d %s' %(id,i,time.ctime()))\n",
    "        time.sleep(1)\n",
    "    "
   ]
  },
  {
   "cell_type": "code",
   "execution_count": 39,
   "id": "079fabbd-140c-45e2-9859-4e902de35b4f",
   "metadata": {},
   "outputs": [
    {
     "name": "stdout",
     "output_type": "stream",
     "text": [
      "test1 0 printing 0 Sat Jul  1 00:47:55 2023\n",
      "test1 0 printing 1 Sat Jul  1 00:47:56 2023\n",
      "test1 0 printing 2 Sat Jul  1 00:47:57 2023\n",
      "test1 0 printing 3 Sat Jul  1 00:47:58 2023\n",
      "test1 0 printing 4 Sat Jul  1 00:47:59 2023\n",
      "test1 0 printing 5 Sat Jul  1 00:48:00 2023\n",
      "test1 0 printing 6 Sat Jul  1 00:48:01 2023\n",
      "test1 0 printing 7 Sat Jul  1 00:48:02 2023\n",
      "test1 0 printing 8 Sat Jul  1 00:48:03 2023\n",
      "test1 0 printing 9 Sat Jul  1 00:48:04 2023\n"
     ]
    }
   ],
   "source": [
    "test1(0)"
   ]
  },
  {
   "cell_type": "code",
   "execution_count": 43,
   "id": "16c10b66-46aa-42a1-9d15-6bf3f0871e12",
   "metadata": {},
   "outputs": [],
   "source": [
    "import threading\n",
    "thre1 = [threading.Thread(target = test1 , args = (i, )) for i in range(3)]"
   ]
  },
  {
   "cell_type": "code",
   "execution_count": 44,
   "id": "0da8e759-029d-451f-be0b-ed79d26256aa",
   "metadata": {},
   "outputs": [
    {
     "name": "stdout",
     "output_type": "stream",
     "text": [
      "test1 0 printing 0 Sat Jul  1 00:48:19 2023\n",
      "test1 1 printing 0 Sat Jul  1 00:48:19 2023\n",
      "test1 2 printing 0 Sat Jul  1 00:48:19 2023\n",
      "test1 0 printing 1 Sat Jul  1 00:48:20 2023test1 1 printing 1 Sat Jul  1 00:48:20 2023\n",
      "\n",
      "test1 2 printing 1 Sat Jul  1 00:48:20 2023\n",
      "test1 1 printing 2 Sat Jul  1 00:48:21 2023\n",
      "test1 2 printing 2 Sat Jul  1 00:48:21 2023\n",
      "test1 0 printing 2 Sat Jul  1 00:48:21 2023\n",
      "test1 1 printing 3 Sat Jul  1 00:48:22 2023test1 2 printing 3 Sat Jul  1 00:48:22 2023\n",
      "\n",
      "test1 0 printing 3 Sat Jul  1 00:48:22 2023\n",
      "test1 2 printing 4 Sat Jul  1 00:48:23 2023\n",
      "test1 0 printing 4 Sat Jul  1 00:48:23 2023\n",
      "test1 1 printing 4 Sat Jul  1 00:48:23 2023\n",
      "test1 2 printing 5 Sat Jul  1 00:48:24 2023test1 0 printing 5 Sat Jul  1 00:48:24 2023\n",
      "test1 1 printing 5 Sat Jul  1 00:48:24 2023\n",
      "\n",
      "test1 0 printing 6 Sat Jul  1 00:48:25 2023\n",
      "test1 1 printing 6 Sat Jul  1 00:48:25 2023\n",
      "test1 2 printing 6 Sat Jul  1 00:48:25 2023\n",
      "test1 0 printing 7 Sat Jul  1 00:48:26 2023test1 1 printing 7 Sat Jul  1 00:48:26 2023\n",
      "\n",
      "test1 2 printing 7 Sat Jul  1 00:48:26 2023\n",
      "test1 1 printing 8 Sat Jul  1 00:48:27 2023test1 0 printing 8 Sat Jul  1 00:48:27 2023\n",
      "test1 2 printing 8 Sat Jul  1 00:48:27 2023\n",
      "\n",
      "test1 0 printing 9 Sat Jul  1 00:48:28 2023\n",
      "test1 2 printing 9 Sat Jul  1 00:48:28 2023\n",
      "test1 1 printing 9 Sat Jul  1 00:48:28 2023\n"
     ]
    }
   ],
   "source": [
    "for t in thre1 :\n",
    "    t.start()"
   ]
  },
  {
   "cell_type": "code",
   "execution_count": 45,
   "id": "dbcf676c-fed4-423b-bc6e-cf8d5361115b",
   "metadata": {},
   "outputs": [],
   "source": [
    "shared_var = 0\n",
    "lock_var = threading.Lock()"
   ]
  },
  {
   "cell_type": "code",
   "execution_count": 1,
   "id": "bd6a0899-eb7a-4d4b-a94a-e46b8b31d6af",
   "metadata": {},
   "outputs": [],
   "source": [
    "import threading ,time"
   ]
  },
  {
   "cell_type": "code",
   "execution_count": 17,
   "id": "8db226c9-8798-4726-838b-dd33c4389bc4",
   "metadata": {},
   "outputs": [
    {
     "name": "stdout",
     "output_type": "stream",
     "text": [
      "test2 id is 0 has increaded the shared variable by 1\n",
      "test2 id is 1 has increaded the shared variable by 2\n",
      "test2 id is 2 has increaded the shared variable by 3\n"
     ]
    }
   ],
   "source": [
    "shared_var = 0\n",
    "lock_var = threading.Lock()\n",
    "def test2(id):\n",
    "    global shared_var\n",
    "    with lock_var :\n",
    "        shared_var = shared_var+1\n",
    "        print(\"test2 id is %d has increaded the shared variable by %d\" %(id, shared_var))\n",
    "        time.sleep(1)\n",
    "thread3 = [threading.Thread(target = test2 , args = (i,)) for i in range(3)]\n",
    "for t in thread3:\n",
    "    t.start()"
   ]
  },
  {
   "cell_type": "code",
   "execution_count": 18,
   "id": "9ce2d9c2-6678-44b9-8b28-df8bef39cd5f",
   "metadata": {},
   "outputs": [
    {
     "name": "stdout",
     "output_type": "stream",
     "text": [
      "test2 id is 0 has increaded the shared variable by 4\n"
     ]
    }
   ],
   "source": [
    "test2(0)"
   ]
  },
  {
   "cell_type": "code",
   "execution_count": null,
   "id": "247d6c6a-6bb2-4389-b8ec-7e311cc70382",
   "metadata": {},
   "outputs": [],
   "source": []
  }
 ],
 "metadata": {
  "kernelspec": {
   "display_name": "Python 3 (ipykernel)",
   "language": "python",
   "name": "python3"
  },
  "language_info": {
   "codemirror_mode": {
    "name": "ipython",
    "version": 3
   },
   "file_extension": ".py",
   "mimetype": "text/x-python",
   "name": "python",
   "nbconvert_exporter": "python",
   "pygments_lexer": "ipython3",
   "version": "3.10.8"
  }
 },
 "nbformat": 4,
 "nbformat_minor": 5
}
